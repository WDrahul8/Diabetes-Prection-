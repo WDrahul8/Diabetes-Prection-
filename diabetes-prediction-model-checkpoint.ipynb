{
 "cells": [
  {
   "cell_type": "code",
   "execution_count": 13,
   "id": "e47d02a5",
   "metadata": {
    "papermill": {
     "duration": 2.351794,
     "end_time": "2023-07-25T11:57:08.158957",
     "exception": false,
     "start_time": "2023-07-25T11:57:05.807163",
     "status": "completed"
    },
    "tags": []
   },
   "outputs": [],
   "source": [
    "import numpy as np\n",
    "import pandas as pd\n",
    "import seaborn as sns\n",
    "from sklearn.model_selection import train_test_split\n",
    "from sklearn.compose import ColumnTransformer\n",
    "from sklearn.preprocessing import OneHotEncoder\n",
    "from sklearn.preprocessing import MinMaxScaler\n",
    "from sklearn.pipeline import Pipeline,make_pipeline\n",
    "from sklearn.tree import DecisionTreeClassifier\n",
    "from sklearn.metrics import accuracy_score\n",
    "from sklearn.model_selection import cross_val_score\n",
    "import warnings\n",
    "warnings.filterwarnings(\"ignore\")"
   ]
  },
  {
   "cell_type": "code",
   "execution_count": 14,
   "id": "8a0788be-05f3-440d-be79-0ff7bf9d95b7",
   "metadata": {},
   "outputs": [
    {
     "name": "stdout",
     "output_type": "stream",
     "text": [
      "Requirement already satisfied: scikit-learn in c:\\users\\ait_d\\appdata\\local\\programs\\python\\python311\\lib\\site-packages (1.3.2)\n",
      "Requirement already satisfied: numpy<2.0,>=1.17.3 in c:\\users\\ait_d\\appdata\\local\\programs\\python\\python311\\lib\\site-packages (from scikit-learn) (1.25.1)\n",
      "Requirement already satisfied: scipy>=1.5.0 in c:\\users\\ait_d\\appdata\\local\\programs\\python\\python311\\lib\\site-packages (from scikit-learn) (1.11.1)\n",
      "Requirement already satisfied: joblib>=1.1.1 in c:\\users\\ait_d\\appdata\\local\\programs\\python\\python311\\lib\\site-packages (from scikit-learn) (1.3.2)\n",
      "Requirement already satisfied: threadpoolctl>=2.0.0 in c:\\users\\ait_d\\appdata\\local\\programs\\python\\python311\\lib\\site-packages (from scikit-learn) (3.2.0)\n",
      "Note: you may need to restart the kernel to use updated packages.\n"
     ]
    },
    {
     "name": "stderr",
     "output_type": "stream",
     "text": [
      "\n",
      "[notice] A new release of pip is available: 23.2.1 -> 23.3.1\n",
      "[notice] To update, run: python.exe -m pip install --upgrade pip\n"
     ]
    }
   ],
   "source": [
    "pip install scikit-learn\n"
   ]
  },
  {
   "cell_type": "markdown",
   "id": "ca47de36",
   "metadata": {
    "papermill": {
     "duration": 0.013304,
     "end_time": "2023-07-25T11:57:08.185418",
     "exception": false,
     "start_time": "2023-07-25T11:57:08.172114",
     "status": "completed"
    },
    "tags": []
   },
   "source": [
    "# Data Exploration \n",
    "*Finding any Null values,Changing Data type if Required,checking statistical relationship between different columns*"
   ]
  },
  {
   "cell_type": "code",
   "execution_count": 15,
   "id": "9ec49f60",
   "metadata": {
    "papermill": {
     "duration": 0.243965,
     "end_time": "2023-07-25T11:57:08.442729",
     "exception": false,
     "start_time": "2023-07-25T11:57:08.198764",
     "status": "completed"
    },
    "tags": []
   },
   "outputs": [
    {
     "data": {
      "text/html": [
       "<div>\n",
       "<style scoped>\n",
       "    .dataframe tbody tr th:only-of-type {\n",
       "        vertical-align: middle;\n",
       "    }\n",
       "\n",
       "    .dataframe tbody tr th {\n",
       "        vertical-align: top;\n",
       "    }\n",
       "\n",
       "    .dataframe thead th {\n",
       "        text-align: right;\n",
       "    }\n",
       "</style>\n",
       "<table border=\"1\" class=\"dataframe\">\n",
       "  <thead>\n",
       "    <tr style=\"text-align: right;\">\n",
       "      <th></th>\n",
       "      <th>gender</th>\n",
       "      <th>age</th>\n",
       "      <th>hypertension</th>\n",
       "      <th>heart_disease</th>\n",
       "      <th>smoking_history</th>\n",
       "      <th>bmi</th>\n",
       "      <th>HbA1c_level</th>\n",
       "      <th>blood_glucose_level</th>\n",
       "      <th>diabetes</th>\n",
       "    </tr>\n",
       "  </thead>\n",
       "  <tbody>\n",
       "    <tr>\n",
       "      <th>0</th>\n",
       "      <td>Female</td>\n",
       "      <td>80.0</td>\n",
       "      <td>0</td>\n",
       "      <td>1</td>\n",
       "      <td>never</td>\n",
       "      <td>25.19</td>\n",
       "      <td>6.6</td>\n",
       "      <td>140</td>\n",
       "      <td>0</td>\n",
       "    </tr>\n",
       "    <tr>\n",
       "      <th>1</th>\n",
       "      <td>Female</td>\n",
       "      <td>54.0</td>\n",
       "      <td>0</td>\n",
       "      <td>0</td>\n",
       "      <td>No Info</td>\n",
       "      <td>27.32</td>\n",
       "      <td>6.6</td>\n",
       "      <td>80</td>\n",
       "      <td>0</td>\n",
       "    </tr>\n",
       "    <tr>\n",
       "      <th>2</th>\n",
       "      <td>Male</td>\n",
       "      <td>28.0</td>\n",
       "      <td>0</td>\n",
       "      <td>0</td>\n",
       "      <td>never</td>\n",
       "      <td>27.32</td>\n",
       "      <td>5.7</td>\n",
       "      <td>158</td>\n",
       "      <td>0</td>\n",
       "    </tr>\n",
       "    <tr>\n",
       "      <th>3</th>\n",
       "      <td>Female</td>\n",
       "      <td>36.0</td>\n",
       "      <td>0</td>\n",
       "      <td>0</td>\n",
       "      <td>current</td>\n",
       "      <td>23.45</td>\n",
       "      <td>5.0</td>\n",
       "      <td>155</td>\n",
       "      <td>0</td>\n",
       "    </tr>\n",
       "    <tr>\n",
       "      <th>4</th>\n",
       "      <td>Male</td>\n",
       "      <td>76.0</td>\n",
       "      <td>1</td>\n",
       "      <td>1</td>\n",
       "      <td>current</td>\n",
       "      <td>20.14</td>\n",
       "      <td>4.8</td>\n",
       "      <td>155</td>\n",
       "      <td>0</td>\n",
       "    </tr>\n",
       "  </tbody>\n",
       "</table>\n",
       "</div>"
      ],
      "text/plain": [
       "   gender   age  hypertension  heart_disease smoking_history    bmi  \\\n",
       "0  Female  80.0             0              1           never  25.19   \n",
       "1  Female  54.0             0              0         No Info  27.32   \n",
       "2    Male  28.0             0              0           never  27.32   \n",
       "3  Female  36.0             0              0         current  23.45   \n",
       "4    Male  76.0             1              1         current  20.14   \n",
       "\n",
       "   HbA1c_level  blood_glucose_level  diabetes  \n",
       "0          6.6                  140         0  \n",
       "1          6.6                   80         0  \n",
       "2          5.7                  158         0  \n",
       "3          5.0                  155         0  \n",
       "4          4.8                  155         0  "
      ]
     },
     "execution_count": 15,
     "metadata": {},
     "output_type": "execute_result"
    }
   ],
   "source": [
    "df=pd.read_csv('diabetes_prediction_dataset.csv')\n",
    "df.head()"
   ]
  },
  {
   "cell_type": "code",
   "execution_count": 16,
   "id": "d5aee10a",
   "metadata": {
    "papermill": {
     "duration": 0.028093,
     "end_time": "2023-07-25T11:57:08.484394",
     "exception": false,
     "start_time": "2023-07-25T11:57:08.456301",
     "status": "completed"
    },
    "tags": []
   },
   "outputs": [
    {
     "data": {
      "text/plain": [
       "(100000, 9)"
      ]
     },
     "execution_count": 16,
     "metadata": {},
     "output_type": "execute_result"
    }
   ],
   "source": [
    "df.shape"
   ]
  },
  {
   "cell_type": "code",
   "execution_count": 17,
   "id": "aa08bb26",
   "metadata": {
    "papermill": {
     "duration": 0.035661,
     "end_time": "2023-07-25T11:57:08.535569",
     "exception": false,
     "start_time": "2023-07-25T11:57:08.499908",
     "status": "completed"
    },
    "tags": []
   },
   "outputs": [
    {
     "data": {
      "text/plain": [
       "diabetes\n",
       "0    91500\n",
       "1     8500\n",
       "Name: count, dtype: int64"
      ]
     },
     "execution_count": 17,
     "metadata": {},
     "output_type": "execute_result"
    }
   ],
   "source": [
    "df['diabetes'].value_counts()"
   ]
  },
  {
   "cell_type": "markdown",
   "id": "0ea43819",
   "metadata": {
    "papermill": {
     "duration": 0.014353,
     "end_time": "2023-07-25T11:57:08.564436",
     "exception": false,
     "start_time": "2023-07-25T11:57:08.550083",
     "status": "completed"
    },
    "tags": []
   },
   "source": [
    "#### 0--> Non-Diabetic Patients\n",
    "#### 1--> Diabetic Patients"
   ]
  },
  {
   "cell_type": "code",
   "execution_count": 18,
   "id": "81523d97",
   "metadata": {
    "papermill": {
     "duration": 0.057174,
     "end_time": "2023-07-25T11:57:08.635505",
     "exception": false,
     "start_time": "2023-07-25T11:57:08.578331",
     "status": "completed"
    },
    "tags": []
   },
   "outputs": [
    {
     "data": {
      "text/html": [
       "<div>\n",
       "<style scoped>\n",
       "    .dataframe tbody tr th:only-of-type {\n",
       "        vertical-align: middle;\n",
       "    }\n",
       "\n",
       "    .dataframe tbody tr th {\n",
       "        vertical-align: top;\n",
       "    }\n",
       "\n",
       "    .dataframe thead th {\n",
       "        text-align: right;\n",
       "    }\n",
       "</style>\n",
       "<table border=\"1\" class=\"dataframe\">\n",
       "  <thead>\n",
       "    <tr style=\"text-align: right;\">\n",
       "      <th></th>\n",
       "      <th>gender</th>\n",
       "      <th>age</th>\n",
       "      <th>hypertension</th>\n",
       "      <th>heart_disease</th>\n",
       "      <th>smoking_history</th>\n",
       "      <th>bmi</th>\n",
       "      <th>HbA1c_level</th>\n",
       "      <th>blood_glucose_level</th>\n",
       "      <th>diabetes</th>\n",
       "    </tr>\n",
       "  </thead>\n",
       "  <tbody>\n",
       "    <tr>\n",
       "      <th>6</th>\n",
       "      <td>Female</td>\n",
       "      <td>44.0</td>\n",
       "      <td>0</td>\n",
       "      <td>0</td>\n",
       "      <td>never</td>\n",
       "      <td>19.31</td>\n",
       "      <td>6.5</td>\n",
       "      <td>200</td>\n",
       "      <td>1</td>\n",
       "    </tr>\n",
       "    <tr>\n",
       "      <th>26</th>\n",
       "      <td>Male</td>\n",
       "      <td>67.0</td>\n",
       "      <td>0</td>\n",
       "      <td>1</td>\n",
       "      <td>not current</td>\n",
       "      <td>27.32</td>\n",
       "      <td>6.5</td>\n",
       "      <td>200</td>\n",
       "      <td>1</td>\n",
       "    </tr>\n",
       "    <tr>\n",
       "      <th>38</th>\n",
       "      <td>Male</td>\n",
       "      <td>50.0</td>\n",
       "      <td>1</td>\n",
       "      <td>0</td>\n",
       "      <td>current</td>\n",
       "      <td>27.32</td>\n",
       "      <td>5.7</td>\n",
       "      <td>260</td>\n",
       "      <td>1</td>\n",
       "    </tr>\n",
       "    <tr>\n",
       "      <th>40</th>\n",
       "      <td>Male</td>\n",
       "      <td>73.0</td>\n",
       "      <td>0</td>\n",
       "      <td>0</td>\n",
       "      <td>former</td>\n",
       "      <td>25.91</td>\n",
       "      <td>9.0</td>\n",
       "      <td>160</td>\n",
       "      <td>1</td>\n",
       "    </tr>\n",
       "    <tr>\n",
       "      <th>53</th>\n",
       "      <td>Female</td>\n",
       "      <td>53.0</td>\n",
       "      <td>0</td>\n",
       "      <td>0</td>\n",
       "      <td>former</td>\n",
       "      <td>27.32</td>\n",
       "      <td>7.0</td>\n",
       "      <td>159</td>\n",
       "      <td>1</td>\n",
       "    </tr>\n",
       "    <tr>\n",
       "      <th>...</th>\n",
       "      <td>...</td>\n",
       "      <td>...</td>\n",
       "      <td>...</td>\n",
       "      <td>...</td>\n",
       "      <td>...</td>\n",
       "      <td>...</td>\n",
       "      <td>...</td>\n",
       "      <td>...</td>\n",
       "      <td>...</td>\n",
       "    </tr>\n",
       "    <tr>\n",
       "      <th>99935</th>\n",
       "      <td>Female</td>\n",
       "      <td>65.0</td>\n",
       "      <td>1</td>\n",
       "      <td>1</td>\n",
       "      <td>never</td>\n",
       "      <td>33.55</td>\n",
       "      <td>8.2</td>\n",
       "      <td>140</td>\n",
       "      <td>1</td>\n",
       "    </tr>\n",
       "    <tr>\n",
       "      <th>99938</th>\n",
       "      <td>Male</td>\n",
       "      <td>55.0</td>\n",
       "      <td>0</td>\n",
       "      <td>1</td>\n",
       "      <td>former</td>\n",
       "      <td>30.42</td>\n",
       "      <td>6.2</td>\n",
       "      <td>300</td>\n",
       "      <td>1</td>\n",
       "    </tr>\n",
       "    <tr>\n",
       "      <th>99957</th>\n",
       "      <td>Female</td>\n",
       "      <td>61.0</td>\n",
       "      <td>0</td>\n",
       "      <td>0</td>\n",
       "      <td>No Info</td>\n",
       "      <td>34.45</td>\n",
       "      <td>6.5</td>\n",
       "      <td>280</td>\n",
       "      <td>1</td>\n",
       "    </tr>\n",
       "    <tr>\n",
       "      <th>99962</th>\n",
       "      <td>Female</td>\n",
       "      <td>58.0</td>\n",
       "      <td>1</td>\n",
       "      <td>0</td>\n",
       "      <td>never</td>\n",
       "      <td>38.31</td>\n",
       "      <td>7.0</td>\n",
       "      <td>200</td>\n",
       "      <td>1</td>\n",
       "    </tr>\n",
       "    <tr>\n",
       "      <th>99979</th>\n",
       "      <td>Female</td>\n",
       "      <td>61.0</td>\n",
       "      <td>0</td>\n",
       "      <td>0</td>\n",
       "      <td>current</td>\n",
       "      <td>30.11</td>\n",
       "      <td>6.2</td>\n",
       "      <td>240</td>\n",
       "      <td>1</td>\n",
       "    </tr>\n",
       "  </tbody>\n",
       "</table>\n",
       "<p>8500 rows × 9 columns</p>\n",
       "</div>"
      ],
      "text/plain": [
       "       gender   age  hypertension  heart_disease smoking_history    bmi  \\\n",
       "6      Female  44.0             0              0           never  19.31   \n",
       "26       Male  67.0             0              1     not current  27.32   \n",
       "38       Male  50.0             1              0         current  27.32   \n",
       "40       Male  73.0             0              0          former  25.91   \n",
       "53     Female  53.0             0              0          former  27.32   \n",
       "...       ...   ...           ...            ...             ...    ...   \n",
       "99935  Female  65.0             1              1           never  33.55   \n",
       "99938    Male  55.0             0              1          former  30.42   \n",
       "99957  Female  61.0             0              0         No Info  34.45   \n",
       "99962  Female  58.0             1              0           never  38.31   \n",
       "99979  Female  61.0             0              0         current  30.11   \n",
       "\n",
       "       HbA1c_level  blood_glucose_level  diabetes  \n",
       "6              6.5                  200         1  \n",
       "26             6.5                  200         1  \n",
       "38             5.7                  260         1  \n",
       "40             9.0                  160         1  \n",
       "53             7.0                  159         1  \n",
       "...            ...                  ...       ...  \n",
       "99935          8.2                  140         1  \n",
       "99938          6.2                  300         1  \n",
       "99957          6.5                  280         1  \n",
       "99962          7.0                  200         1  \n",
       "99979          6.2                  240         1  \n",
       "\n",
       "[8500 rows x 9 columns]"
      ]
     },
     "execution_count": 18,
     "metadata": {},
     "output_type": "execute_result"
    }
   ],
   "source": [
    "df2=df.query('diabetes == 1')\n",
    "df2"
   ]
  },
  {
   "cell_type": "markdown",
   "id": "c6aee545",
   "metadata": {
    "papermill": {
     "duration": 0.014356,
     "end_time": "2023-07-25T11:57:08.663714",
     "exception": false,
     "start_time": "2023-07-25T11:57:08.649358",
     "status": "completed"
    },
    "tags": []
   },
   "source": [
    "# This Table represents that around 8500 people are diabetic"
   ]
  },
  {
   "cell_type": "code",
   "execution_count": 19,
   "id": "ffe8f1a4",
   "metadata": {
    "papermill": {
     "duration": 0.096972,
     "end_time": "2023-07-25T11:57:08.775281",
     "exception": false,
     "start_time": "2023-07-25T11:57:08.678309",
     "status": "completed"
    },
    "tags": []
   },
   "outputs": [
    {
     "data": {
      "text/plain": [
       "gender                 0\n",
       "age                    0\n",
       "hypertension           0\n",
       "heart_disease          0\n",
       "smoking_history        0\n",
       "bmi                    0\n",
       "HbA1c_level            0\n",
       "blood_glucose_level    0\n",
       "diabetes               0\n",
       "dtype: int64"
      ]
     },
     "execution_count": 19,
     "metadata": {},
     "output_type": "execute_result"
    }
   ],
   "source": [
    "df.isnull().sum()"
   ]
  },
  {
   "cell_type": "code",
   "execution_count": 20,
   "id": "41485633",
   "metadata": {
    "papermill": {
     "duration": 0.088399,
     "end_time": "2023-07-25T11:57:08.878217",
     "exception": false,
     "start_time": "2023-07-25T11:57:08.789818",
     "status": "completed"
    },
    "tags": []
   },
   "outputs": [
    {
     "data": {
      "text/html": [
       "<div>\n",
       "<style scoped>\n",
       "    .dataframe tbody tr th:only-of-type {\n",
       "        vertical-align: middle;\n",
       "    }\n",
       "\n",
       "    .dataframe tbody tr th {\n",
       "        vertical-align: top;\n",
       "    }\n",
       "\n",
       "    .dataframe thead th {\n",
       "        text-align: right;\n",
       "    }\n",
       "</style>\n",
       "<table border=\"1\" class=\"dataframe\">\n",
       "  <thead>\n",
       "    <tr style=\"text-align: right;\">\n",
       "      <th></th>\n",
       "      <th>age</th>\n",
       "      <th>hypertension</th>\n",
       "      <th>heart_disease</th>\n",
       "      <th>bmi</th>\n",
       "      <th>HbA1c_level</th>\n",
       "      <th>blood_glucose_level</th>\n",
       "      <th>diabetes</th>\n",
       "    </tr>\n",
       "  </thead>\n",
       "  <tbody>\n",
       "    <tr>\n",
       "      <th>count</th>\n",
       "      <td>100000.000000</td>\n",
       "      <td>100000.00000</td>\n",
       "      <td>100000.000000</td>\n",
       "      <td>100000.000000</td>\n",
       "      <td>100000.000000</td>\n",
       "      <td>100000.000000</td>\n",
       "      <td>100000.000000</td>\n",
       "    </tr>\n",
       "    <tr>\n",
       "      <th>mean</th>\n",
       "      <td>41.885856</td>\n",
       "      <td>0.07485</td>\n",
       "      <td>0.039420</td>\n",
       "      <td>27.320767</td>\n",
       "      <td>5.527507</td>\n",
       "      <td>138.058060</td>\n",
       "      <td>0.085000</td>\n",
       "    </tr>\n",
       "    <tr>\n",
       "      <th>std</th>\n",
       "      <td>22.516840</td>\n",
       "      <td>0.26315</td>\n",
       "      <td>0.194593</td>\n",
       "      <td>6.636783</td>\n",
       "      <td>1.070672</td>\n",
       "      <td>40.708136</td>\n",
       "      <td>0.278883</td>\n",
       "    </tr>\n",
       "    <tr>\n",
       "      <th>min</th>\n",
       "      <td>0.080000</td>\n",
       "      <td>0.00000</td>\n",
       "      <td>0.000000</td>\n",
       "      <td>10.010000</td>\n",
       "      <td>3.500000</td>\n",
       "      <td>80.000000</td>\n",
       "      <td>0.000000</td>\n",
       "    </tr>\n",
       "    <tr>\n",
       "      <th>25%</th>\n",
       "      <td>24.000000</td>\n",
       "      <td>0.00000</td>\n",
       "      <td>0.000000</td>\n",
       "      <td>23.630000</td>\n",
       "      <td>4.800000</td>\n",
       "      <td>100.000000</td>\n",
       "      <td>0.000000</td>\n",
       "    </tr>\n",
       "    <tr>\n",
       "      <th>50%</th>\n",
       "      <td>43.000000</td>\n",
       "      <td>0.00000</td>\n",
       "      <td>0.000000</td>\n",
       "      <td>27.320000</td>\n",
       "      <td>5.800000</td>\n",
       "      <td>140.000000</td>\n",
       "      <td>0.000000</td>\n",
       "    </tr>\n",
       "    <tr>\n",
       "      <th>75%</th>\n",
       "      <td>60.000000</td>\n",
       "      <td>0.00000</td>\n",
       "      <td>0.000000</td>\n",
       "      <td>29.580000</td>\n",
       "      <td>6.200000</td>\n",
       "      <td>159.000000</td>\n",
       "      <td>0.000000</td>\n",
       "    </tr>\n",
       "    <tr>\n",
       "      <th>max</th>\n",
       "      <td>80.000000</td>\n",
       "      <td>1.00000</td>\n",
       "      <td>1.000000</td>\n",
       "      <td>95.690000</td>\n",
       "      <td>9.000000</td>\n",
       "      <td>300.000000</td>\n",
       "      <td>1.000000</td>\n",
       "    </tr>\n",
       "  </tbody>\n",
       "</table>\n",
       "</div>"
      ],
      "text/plain": [
       "                 age  hypertension  heart_disease            bmi  \\\n",
       "count  100000.000000  100000.00000  100000.000000  100000.000000   \n",
       "mean       41.885856       0.07485       0.039420      27.320767   \n",
       "std        22.516840       0.26315       0.194593       6.636783   \n",
       "min         0.080000       0.00000       0.000000      10.010000   \n",
       "25%        24.000000       0.00000       0.000000      23.630000   \n",
       "50%        43.000000       0.00000       0.000000      27.320000   \n",
       "75%        60.000000       0.00000       0.000000      29.580000   \n",
       "max        80.000000       1.00000       1.000000      95.690000   \n",
       "\n",
       "         HbA1c_level  blood_glucose_level       diabetes  \n",
       "count  100000.000000        100000.000000  100000.000000  \n",
       "mean        5.527507           138.058060       0.085000  \n",
       "std         1.070672            40.708136       0.278883  \n",
       "min         3.500000            80.000000       0.000000  \n",
       "25%         4.800000           100.000000       0.000000  \n",
       "50%         5.800000           140.000000       0.000000  \n",
       "75%         6.200000           159.000000       0.000000  \n",
       "max         9.000000           300.000000       1.000000  "
      ]
     },
     "execution_count": 20,
     "metadata": {},
     "output_type": "execute_result"
    }
   ],
   "source": [
    "df.describe()"
   ]
  },
  {
   "cell_type": "code",
   "execution_count": 21,
   "id": "9d1a5aab",
   "metadata": {
    "papermill": {
     "duration": 0.1137,
     "end_time": "2023-07-25T11:57:09.006765",
     "exception": false,
     "start_time": "2023-07-25T11:57:08.893065",
     "status": "completed"
    },
    "tags": []
   },
   "outputs": [
    {
     "name": "stdout",
     "output_type": "stream",
     "text": [
      "<class 'pandas.core.frame.DataFrame'>\n",
      "RangeIndex: 100000 entries, 0 to 99999\n",
      "Data columns (total 9 columns):\n",
      " #   Column               Non-Null Count   Dtype  \n",
      "---  ------               --------------   -----  \n",
      " 0   gender               100000 non-null  object \n",
      " 1   age                  100000 non-null  float64\n",
      " 2   hypertension         100000 non-null  int64  \n",
      " 3   heart_disease        100000 non-null  int64  \n",
      " 4   smoking_history      100000 non-null  object \n",
      " 5   bmi                  100000 non-null  float64\n",
      " 6   HbA1c_level          100000 non-null  float64\n",
      " 7   blood_glucose_level  100000 non-null  int64  \n",
      " 8   diabetes             100000 non-null  int64  \n",
      "dtypes: float64(3), int64(4), object(2)\n",
      "memory usage: 6.9+ MB\n"
     ]
    }
   ],
   "source": [
    "df.info()"
   ]
  },
  {
   "cell_type": "markdown",
   "id": "0348ab15",
   "metadata": {
    "papermill": {
     "duration": 0.015047,
     "end_time": "2023-07-25T11:57:09.036470",
     "exception": false,
     "start_time": "2023-07-25T11:57:09.021423",
     "status": "completed"
    },
    "tags": []
   },
   "source": [
    "# Changing Data Type "
   ]
  },
  {
   "cell_type": "code",
   "execution_count": 22,
   "id": "1d13a09d",
   "metadata": {
    "papermill": {
     "duration": 0.032374,
     "end_time": "2023-07-25T11:57:09.083981",
     "exception": false,
     "start_time": "2023-07-25T11:57:09.051607",
     "status": "completed"
    },
    "tags": []
   },
   "outputs": [],
   "source": [
    "df = df.astype({'age': int})"
   ]
  },
  {
   "cell_type": "markdown",
   "id": "11878db6",
   "metadata": {
    "papermill": {
     "duration": 0.014951,
     "end_time": "2023-07-25T11:57:09.113664",
     "exception": false,
     "start_time": "2023-07-25T11:57:09.098713",
     "status": "completed"
    },
    "tags": []
   },
   "source": [
    "# Data Visualization"
   ]
  },
  {
   "cell_type": "code",
   "execution_count": 23,
   "id": "ee18ef22",
   "metadata": {
    "papermill": {
     "duration": 0.521409,
     "end_time": "2023-07-25T11:57:09.649437",
     "exception": false,
     "start_time": "2023-07-25T11:57:09.128028",
     "status": "completed"
    },
    "tags": []
   },
   "outputs": [
    {
     "data": {
      "image/png": "[encoded data removed]",
      "text/plain": [
       "<Figure size 640x480 with 1 Axes>"
      ]
     },
     "metadata": {},
     "output_type": "display_data"
    }
   ],
   "source": [
    "gen=sns.countplot(x='diabetes',data=df,hue='gender')\n",
    "\n",
    "for bars in gen.containers:\n",
    "    gen.bar_label(bars)"
   ]
  },
  {
   "cell_type": "code",
   "execution_count": 24,
   "id": "50fbb59a",
   "metadata": {
    "papermill": {
     "duration": 0.248006,
     "end_time": "2023-07-25T11:57:09.912637",
     "exception": false,
     "start_time": "2023-07-25T11:57:09.664631",
     "status": "completed"
    },
    "tags": []
   },
   "outputs": [
    {
     "data": {
      "text/plain": [
       "Text(0.5, 1.0, 'Distribution of diabeties in dataset')"
      ]
     },
     "execution_count": 24,
     "metadata": {},
     "output_type": "execute_result"
    },
    {
     "data": {
      "image/png": "[encoded data removed]",
      "text/plain": [
       "<Figure size 640x480 with 1 Axes>"
      ]
     },
     "metadata": {},
     "output_type": "display_data"
    }
   ],
   "source": [
    "# Percentage of Non_diabetic vs Diabetic patients\n",
    "\n",
    "import matplotlib.pyplot as plt\n",
    "df['diabetes'].value_counts().plot(kind='pie',autopct='%0.2f')\n",
    "plt.title(\"Distribution of diabeties in dataset\")"
   ]
  },
  {
   "cell_type": "code",
   "execution_count": 25,
   "id": "fd5e95c5",
   "metadata": {
    "papermill": {
     "duration": 0.887639,
     "end_time": "2023-07-25T11:57:10.835275",
     "exception": false,
     "start_time": "2023-07-25T11:57:09.947636",
     "status": "completed"
    },
    "tags": []
   },
   "outputs": [
    {
     "data": {
      "image/png": "[encoded data removed]",
      "text/plain": [
       "<Figure size 640x480 with 1 Axes>"
      ]
     },
     "metadata": {},
     "output_type": "display_data"
    },
    {
     "data": {
      "image/png": "[encoded data removed]",
      "text/plain": [
       "<Figure size 640x480 with 1 Axes>"
      ]
     },
     "metadata": {},
     "output_type": "display_data"
    },
    {
     "data": {
      "image/png": "[encoded data removed]",
      "text/plain": [
       "<Figure size 640x480 with 1 Axes>"
      ]
     },
     "metadata": {},
     "output_type": "display_data"
    }
   ],
   "source": [
    "# Highlighting The major factors that causes diabetes using boxplot\n",
    "\n",
    "\n",
    "sns.boxplot(x=\"diabetes\", y=\"bmi\", data=df)\n",
    "plt.title(\"BMI Distribution by Diabetes Status\")\n",
    "plt.show()\n",
    "\n",
    "sns.boxplot(x=\"diabetes\", y=\"HbA1c_level\", data=df)\n",
    "plt.title(\"HbA1c Level Distribution by Diabetes Status\")\n",
    "plt.show()\n",
    "\n",
    "sns.boxplot(x=\"diabetes\", y=\"blood_glucose_level\", data=df)\n",
    "plt.title(\"Blood Glucose Level Distribution by Diabetes Status\")\n",
    "plt.show()"
   ]
  },
  {
   "cell_type": "markdown",
   "id": "526ac375",
   "metadata": {
    "papermill": {
     "duration": 0.017363,
     "end_time": "2023-07-25T11:57:10.870748",
     "exception": false,
     "start_time": "2023-07-25T11:57:10.853385",
     "status": "completed"
    },
    "tags": []
   },
   "source": [
    "**The above Boxplots gives us the idea that people having bmi over 30 ,and hbac level over 6 and blood glucose level over 180 are having diabetes**"
   ]
  },
  {
   "cell_type": "markdown",
   "id": "6d9be5ce",
   "metadata": {
    "papermill": {
     "duration": 0.017134,
     "end_time": "2023-07-25T11:57:10.905419",
     "exception": false,
     "start_time": "2023-07-25T11:57:10.888285",
     "status": "completed"
    },
    "tags": []
   },
   "source": [
    "#  train/test/split"
   ]
  },
  {
   "cell_type": "code",
   "execution_count": 26,
   "id": "20764662",
   "metadata": {
    "papermill": {
     "duration": 0.120623,
     "end_time": "2023-07-25T11:57:11.044382",
     "exception": false,
     "start_time": "2023-07-25T11:57:10.923759",
     "status": "completed"
    },
    "tags": []
   },
   "outputs": [
    {
     "data": {
      "text/plain": [
       "((70000, 8), (30000, 8))"
      ]
     },
     "execution_count": 26,
     "metadata": {},
     "output_type": "execute_result"
    }
   ],
   "source": [
    "X_train,X_test,y_train,y_test = train_test_split(df.iloc[:,0:8],df.iloc[:,-1],test_size=0.3,stratify=df.iloc[:,-1],random_state=42)\n",
    "\n",
    "X_train.shape,X_test.shape"
   ]
  },
  {
   "cell_type": "code",
   "execution_count": 27,
   "id": "604f8aa5",
   "metadata": {
    "papermill": {
     "duration": 0.041296,
     "end_time": "2023-07-25T11:57:11.103435",
     "exception": false,
     "start_time": "2023-07-25T11:57:11.062139",
     "status": "completed"
    },
    "tags": []
   },
   "outputs": [
    {
     "data": {
      "text/html": [
       "<div>\n",
       "<style scoped>\n",
       "    .dataframe tbody tr th:only-of-type {\n",
       "        vertical-align: middle;\n",
       "    }\n",
       "\n",
       "    .dataframe tbody tr th {\n",
       "        vertical-align: top;\n",
       "    }\n",
       "\n",
       "    .dataframe thead th {\n",
       "        text-align: right;\n",
       "    }\n",
       "</style>\n",
       "<table border=\"1\" class=\"dataframe\">\n",
       "  <thead>\n",
       "    <tr style=\"text-align: right;\">\n",
       "      <th></th>\n",
       "      <th>gender</th>\n",
       "      <th>age</th>\n",
       "      <th>hypertension</th>\n",
       "      <th>heart_disease</th>\n",
       "      <th>smoking_history</th>\n",
       "      <th>bmi</th>\n",
       "      <th>HbA1c_level</th>\n",
       "      <th>blood_glucose_level</th>\n",
       "    </tr>\n",
       "  </thead>\n",
       "  <tbody>\n",
       "    <tr>\n",
       "      <th>54534</th>\n",
       "      <td>Female</td>\n",
       "      <td>56</td>\n",
       "      <td>0</td>\n",
       "      <td>1</td>\n",
       "      <td>never</td>\n",
       "      <td>39.51</td>\n",
       "      <td>4.0</td>\n",
       "      <td>100</td>\n",
       "    </tr>\n",
       "    <tr>\n",
       "      <th>7286</th>\n",
       "      <td>Male</td>\n",
       "      <td>64</td>\n",
       "      <td>0</td>\n",
       "      <td>0</td>\n",
       "      <td>former</td>\n",
       "      <td>27.32</td>\n",
       "      <td>6.6</td>\n",
       "      <td>90</td>\n",
       "    </tr>\n",
       "    <tr>\n",
       "      <th>44496</th>\n",
       "      <td>Male</td>\n",
       "      <td>49</td>\n",
       "      <td>0</td>\n",
       "      <td>0</td>\n",
       "      <td>never</td>\n",
       "      <td>42.26</td>\n",
       "      <td>6.0</td>\n",
       "      <td>240</td>\n",
       "    </tr>\n",
       "    <tr>\n",
       "      <th>86010</th>\n",
       "      <td>Male</td>\n",
       "      <td>68</td>\n",
       "      <td>0</td>\n",
       "      <td>0</td>\n",
       "      <td>No Info</td>\n",
       "      <td>27.32</td>\n",
       "      <td>4.8</td>\n",
       "      <td>85</td>\n",
       "    </tr>\n",
       "    <tr>\n",
       "      <th>44954</th>\n",
       "      <td>Male</td>\n",
       "      <td>62</td>\n",
       "      <td>0</td>\n",
       "      <td>0</td>\n",
       "      <td>not current</td>\n",
       "      <td>30.64</td>\n",
       "      <td>5.7</td>\n",
       "      <td>145</td>\n",
       "    </tr>\n",
       "  </tbody>\n",
       "</table>\n",
       "</div>"
      ],
      "text/plain": [
       "       gender  age  hypertension  heart_disease smoking_history    bmi  \\\n",
       "54534  Female   56             0              1           never  39.51   \n",
       "7286     Male   64             0              0          former  27.32   \n",
       "44496    Male   49             0              0           never  42.26   \n",
       "86010    Male   68             0              0         No Info  27.32   \n",
       "44954    Male   62             0              0     not current  30.64   \n",
       "\n",
       "       HbA1c_level  blood_glucose_level  \n",
       "54534          4.0                  100  \n",
       "7286           6.6                   90  \n",
       "44496          6.0                  240  \n",
       "86010          4.8                   85  \n",
       "44954          5.7                  145  "
      ]
     },
     "execution_count": 27,
     "metadata": {},
     "output_type": "execute_result"
    }
   ],
   "source": [
    "X_train.head()"
   ]
  },
  {
   "cell_type": "markdown",
   "id": "6d6d53f3",
   "metadata": {
    "papermill": {
     "duration": 0.017851,
     "end_time": "2023-07-25T11:57:11.140080",
     "exception": false,
     "start_time": "2023-07-25T11:57:11.122229",
     "status": "completed"
    },
    "tags": []
   },
   "source": [
    "# Feature Engineering"
   ]
  },
  {
   "cell_type": "markdown",
   "id": "0067c012",
   "metadata": {
    "papermill": {
     "duration": 0.017316,
     "end_time": "2023-07-25T11:57:11.175901",
     "exception": false,
     "start_time": "2023-07-25T11:57:11.158585",
     "status": "completed"
    },
    "tags": []
   },
   "source": [
    "# One Hot Encoding\n",
    "## To Transform the categorical column into numerical column"
   ]
  },
  {
   "cell_type": "code",
   "execution_count": 28,
   "id": "0d289e77",
   "metadata": {
    "papermill": {
     "duration": 0.03079,
     "end_time": "2023-07-25T11:57:11.224715",
     "exception": false,
     "start_time": "2023-07-25T11:57:11.193925",
     "status": "completed"
    },
    "tags": []
   },
   "outputs": [],
   "source": [
    "trf1= ColumnTransformer([\n",
    "    ('ohe_gender_smokinghistory',OneHotEncoder(sparse=False,handle_unknown='ignore'),[0,4])\n",
    "],remainder='passthrough')"
   ]
  },
  {
   "cell_type": "markdown",
   "id": "43bbc0fe",
   "metadata": {
    "papermill": {
     "duration": 0.01754,
     "end_time": "2023-07-25T11:57:11.259974",
     "exception": false,
     "start_time": "2023-07-25T11:57:11.242434",
     "status": "completed"
    },
    "tags": []
   },
   "source": [
    "# Scaling\n",
    "## To scale down the values between range [-1 to 1]"
   ]
  },
  {
   "cell_type": "code",
   "execution_count": 29,
   "id": "fac3ee1b",
   "metadata": {
    "papermill": {
     "duration": 0.029518,
     "end_time": "2023-07-25T11:57:11.309189",
     "exception": false,
     "start_time": "2023-07-25T11:57:11.279671",
     "status": "completed"
    },
    "tags": []
   },
   "outputs": [],
   "source": [
    "trf2 = ColumnTransformer([\n",
    "    ('scale',MinMaxScaler(),slice(0,15))\n",
    "])"
   ]
  },
  {
   "cell_type": "markdown",
   "id": "4e7628d0",
   "metadata": {
    "papermill": {
     "duration": 0.017389,
     "end_time": "2023-07-25T11:57:11.345394",
     "exception": false,
     "start_time": "2023-07-25T11:57:11.328005",
     "status": "completed"
    },
    "tags": []
   },
   "source": [
    "# Training The Model \n",
    "## Using DecisionTreeClassifier algorithm to train the model "
   ]
  },
  {
   "cell_type": "code",
   "execution_count": 30,
   "id": "95c292d7",
   "metadata": {
    "papermill": {
     "duration": 0.02797,
     "end_time": "2023-07-25T11:57:11.391991",
     "exception": false,
     "start_time": "2023-07-25T11:57:11.364021",
     "status": "completed"
    },
    "tags": []
   },
   "outputs": [],
   "source": [
    "trf3 = DecisionTreeClassifier()"
   ]
  },
  {
   "cell_type": "markdown",
   "id": "25c5ce6e",
   "metadata": {
    "papermill": {
     "duration": 0.018498,
     "end_time": "2023-07-25T11:57:11.428949",
     "exception": false,
     "start_time": "2023-07-25T11:57:11.410451",
     "status": "completed"
    },
    "tags": []
   },
   "source": [
    "# Creating Pipeline"
   ]
  },
  {
   "cell_type": "code",
   "execution_count": 31,
   "id": "538f1fa2",
   "metadata": {
    "papermill": {
     "duration": 0.027918,
     "end_time": "2023-07-25T11:57:11.474811",
     "exception": false,
     "start_time": "2023-07-25T11:57:11.446893",
     "status": "completed"
    },
    "tags": []
   },
   "outputs": [],
   "source": [
    "pipe=Pipeline([\n",
    "    ('trf1',trf1),\n",
    "    ('trf2',trf2),\n",
    "    ('trf3',trf3)\n",
    "])"
   ]
  },
  {
   "cell_type": "code",
   "execution_count": 32,
   "id": "5725b2aa",
   "metadata": {
    "papermill": {
     "duration": 0.029106,
     "end_time": "2023-07-25T11:57:11.522263",
     "exception": false,
     "start_time": "2023-07-25T11:57:11.493157",
     "status": "completed"
    },
    "tags": []
   },
   "outputs": [],
   "source": [
    "# Alternate Syntax\n",
    "pipe = make_pipeline(trf1,trf2,trf3)"
   ]
  },
  {
   "cell_type": "code",
   "execution_count": 33,
   "id": "ad1f2840",
   "metadata": {
    "papermill": {
     "duration": 0.559108,
     "end_time": "2023-07-25T11:57:12.099795",
     "exception": false,
     "start_time": "2023-07-25T11:57:11.540687",
     "status": "completed"
    },
    "tags": []
   },
   "outputs": [
    {
     "data": {
      "text/html": [
       "<style>#sk-container-id-1 {color: black;}#sk-container-id-1 pre{padding: 0;}#sk-container-id-1 div.sk-toggleable {background-color: white;}#sk-container-id-1 label.sk-toggleable__label {cursor: pointer;display: block;width: 100%;margin-bottom: 0;padding: 0.3em;box-sizing: border-box;text-align: center;}#sk-container-id-1 label.sk-toggleable__label-arrow:before {content: \"▸\";float: left;margin-right: 0.25em;color: #696969;}#sk-container-id-1 label.sk-toggleable__label-arrow:hover:before {color: black;}#sk-container-id-1 div.sk-estimator:hover label.sk-toggleable__label-arrow:before {color: black;}#sk-container-id-1 div.sk-toggleable__content {max-height: 0;max-width: 0;overflow: hidden;text-align: left;background-color: #f0f8ff;}#sk-container-id-1 div.sk-toggleable__content pre {margin: 0.2em;color: black;border-radius: 0.25em;background-color: #f0f8ff;}#sk-container-id-1 input.sk-toggleable__control:checked~div.sk-toggleable__content {max-height: 200px;max-width: 100%;overflow: auto;}#sk-container-id-1 input.sk-toggleable__control:checked~label.sk-toggleable__label-arrow:before {content: \"▾\";}#sk-container-id-1 div.sk-estimator input.sk-toggleable__control:checked~label.sk-toggleable__label {background-color: #d4ebff;}#sk-container-id-1 div.sk-label input.sk-toggleable__control:checked~label.sk-toggleable__label {background-color: #d4ebff;}#sk-container-id-1 input.sk-hidden--visually {border: 0;clip: rect(1px 1px 1px 1px);clip: rect(1px, 1px, 1px, 1px);height: 1px;margin: -1px;overflow: hidden;padding: 0;position: absolute;width: 1px;}#sk-container-id-1 div.sk-estimator {font-family: monospace;background-color: #f0f8ff;border: 1px dotted black;border-radius: 0.25em;box-sizing: border-box;margin-bottom: 0.5em;}#sk-container-id-1 div.sk-estimator:hover {background-color: #d4ebff;}#sk-container-id-1 div.sk-parallel-item::after {content: \"\";width: 100%;border-bottom: 1px solid gray;flex-grow: 1;}#sk-container-id-1 div.sk-label:hover label.sk-toggleable__label {background-color: #d4ebff;}#sk-container-id-1 div.sk-serial::before {content: \"\";position: absolute;border-left: 1px solid gray;box-sizing: border-box;top: 0;bottom: 0;left: 50%;z-index: 0;}#sk-container-id-1 div.sk-serial {display: flex;flex-direction: column;align-items: center;background-color: white;padding-right: 0.2em;padding-left: 0.2em;position: relative;}#sk-container-id-1 div.sk-item {position: relative;z-index: 1;}#sk-container-id-1 div.sk-parallel {display: flex;align-items: stretch;justify-content: center;background-color: white;position: relative;}#sk-container-id-1 div.sk-item::before, #sk-container-id-1 div.sk-parallel-item::before {content: \"\";position: absolute;border-left: 1px solid gray;box-sizing: border-box;top: 0;bottom: 0;left: 50%;z-index: -1;}#sk-container-id-1 div.sk-parallel-item {display: flex;flex-direction: column;z-index: 1;position: relative;background-color: white;}#sk-container-id-1 div.sk-parallel-item:first-child::after {align-self: flex-end;width: 50%;}#sk-container-id-1 div.sk-parallel-item:last-child::after {align-self: flex-start;width: 50%;}#sk-container-id-1 div.sk-parallel-item:only-child::after {width: 0;}#sk-container-id-1 div.sk-dashed-wrapped {border: 1px dashed gray;margin: 0 0.4em 0.5em 0.4em;box-sizing: border-box;padding-bottom: 0.4em;background-color: white;}#sk-container-id-1 div.sk-label label {font-family: monospace;font-weight: bold;display: inline-block;line-height: 1.2em;}#sk-container-id-1 div.sk-label-container {text-align: center;}#sk-container-id-1 div.sk-container {/* jupyter's `normalize.less` sets `[hidden] { display: none; }` but bootstrap.min.css set `[hidden] { display: none !important; }` so we also need the `!important` here to be able to override the default hidden behavior on the sphinx rendered scikit-learn.org. See: https://github.com/scikit-learn/scikit-learn/issues/21755 */display: inline-block !important;position: relative;}#sk-container-id-1 div.sk-text-repr-fallback {display: none;}</style><div id=\"sk-container-id-1\" class=\"sk-top-container\"><div class=\"sk-text-repr-fallback\"><pre>Pipeline(steps=[(&#x27;columntransformer-1&#x27;,\n",
       "                 ColumnTransformer(remainder=&#x27;passthrough&#x27;,\n",
       "                                   transformers=[(&#x27;ohe_gender_smokinghistory&#x27;,\n",
       "                                                  OneHotEncoder(handle_unknown=&#x27;ignore&#x27;,\n",
       "                                                                sparse=False),\n",
       "                                                  [0, 4])])),\n",
       "                (&#x27;columntransformer-2&#x27;,\n",
       "                 ColumnTransformer(transformers=[(&#x27;scale&#x27;, MinMaxScaler(),\n",
       "                                                  slice(0, 15, None))])),\n",
       "                (&#x27;decisiontreeclassifier&#x27;, DecisionTreeClassifier())])</pre><b>In a Jupyter environment, please rerun this cell to show the HTML representation or trust the notebook. <br />On GitHub, the HTML representation is unable to render, please try loading this page with nbviewer.org.</b></div><div class=\"sk-container\" hidden><div class=\"sk-item sk-dashed-wrapped\"><div class=\"sk-label-container\"><div class=\"sk-label sk-toggleable\"><input class=\"sk-toggleable__control sk-hidden--visually\" id=\"sk-estimator-id-1\" type=\"checkbox\" ><label for=\"sk-estimator-id-1\" class=\"sk-toggleable__label sk-toggleable__label-arrow\">Pipeline</label><div class=\"sk-toggleable__content\"><pre>Pipeline(steps=[(&#x27;columntransformer-1&#x27;,\n",
       "                 ColumnTransformer(remainder=&#x27;passthrough&#x27;,\n",
       "                                   transformers=[(&#x27;ohe_gender_smokinghistory&#x27;,\n",
       "                                                  OneHotEncoder(handle_unknown=&#x27;ignore&#x27;,\n",
       "                                                                sparse=False),\n",
       "                                                  [0, 4])])),\n",
       "                (&#x27;columntransformer-2&#x27;,\n",
       "                 ColumnTransformer(transformers=[(&#x27;scale&#x27;, MinMaxScaler(),\n",
       "                                                  slice(0, 15, None))])),\n",
       "                (&#x27;decisiontreeclassifier&#x27;, DecisionTreeClassifier())])</pre></div></div></div><div class=\"sk-serial\"><div class=\"sk-item sk-dashed-wrapped\"><div class=\"sk-label-container\"><div class=\"sk-label sk-toggleable\"><input class=\"sk-toggleable__control sk-hidden--visually\" id=\"sk-estimator-id-2\" type=\"checkbox\" ><label for=\"sk-estimator-id-2\" class=\"sk-toggleable__label sk-toggleable__label-arrow\">columntransformer-1: ColumnTransformer</label><div class=\"sk-toggleable__content\"><pre>ColumnTransformer(remainder=&#x27;passthrough&#x27;,\n",
       "                  transformers=[(&#x27;ohe_gender_smokinghistory&#x27;,\n",
       "                                 OneHotEncoder(handle_unknown=&#x27;ignore&#x27;,\n",
       "                                               sparse=False),\n",
       "                                 [0, 4])])</pre></div></div></div><div class=\"sk-parallel\"><div class=\"sk-parallel-item\"><div class=\"sk-item\"><div class=\"sk-label-container\"><div class=\"sk-label sk-toggleable\"><input class=\"sk-toggleable__control sk-hidden--visually\" id=\"sk-estimator-id-3\" type=\"checkbox\" ><label for=\"sk-estimator-id-3\" class=\"sk-toggleable__label sk-toggleable__label-arrow\">ohe_gender_smokinghistory</label><div class=\"sk-toggleable__content\"><pre>[0, 4]</pre></div></div></div><div class=\"sk-serial\"><div class=\"sk-item\"><div class=\"sk-estimator sk-toggleable\"><input class=\"sk-toggleable__control sk-hidden--visually\" id=\"sk-estimator-id-4\" type=\"checkbox\" ><label for=\"sk-estimator-id-4\" class=\"sk-toggleable__label sk-toggleable__label-arrow\">OneHotEncoder</label><div class=\"sk-toggleable__content\"><pre>OneHotEncoder(handle_unknown=&#x27;ignore&#x27;, sparse=False)</pre></div></div></div></div></div></div><div class=\"sk-parallel-item\"><div class=\"sk-item\"><div class=\"sk-label-container\"><div class=\"sk-label sk-toggleable\"><input class=\"sk-toggleable__control sk-hidden--visually\" id=\"sk-estimator-id-5\" type=\"checkbox\" ><label for=\"sk-estimator-id-5\" class=\"sk-toggleable__label sk-toggleable__label-arrow\">remainder</label><div class=\"sk-toggleable__content\"><pre>[&#x27;age&#x27;, &#x27;hypertension&#x27;, &#x27;heart_disease&#x27;, &#x27;bmi&#x27;, &#x27;HbA1c_level&#x27;, &#x27;blood_glucose_level&#x27;]</pre></div></div></div><div class=\"sk-serial\"><div class=\"sk-item\"><div class=\"sk-estimator sk-toggleable\"><input class=\"sk-toggleable__control sk-hidden--visually\" id=\"sk-estimator-id-6\" type=\"checkbox\" ><label for=\"sk-estimator-id-6\" class=\"sk-toggleable__label sk-toggleable__label-arrow\">passthrough</label><div class=\"sk-toggleable__content\"><pre>passthrough</pre></div></div></div></div></div></div></div></div><div class=\"sk-item sk-dashed-wrapped\"><div class=\"sk-label-container\"><div class=\"sk-label sk-toggleable\"><input class=\"sk-toggleable__control sk-hidden--visually\" id=\"sk-estimator-id-7\" type=\"checkbox\" ><label for=\"sk-estimator-id-7\" class=\"sk-toggleable__label sk-toggleable__label-arrow\">columntransformer-2: ColumnTransformer</label><div class=\"sk-toggleable__content\"><pre>ColumnTransformer(transformers=[(&#x27;scale&#x27;, MinMaxScaler(), slice(0, 15, None))])</pre></div></div></div><div class=\"sk-parallel\"><div class=\"sk-parallel-item\"><div class=\"sk-item\"><div class=\"sk-label-container\"><div class=\"sk-label sk-toggleable\"><input class=\"sk-toggleable__control sk-hidden--visually\" id=\"sk-estimator-id-8\" type=\"checkbox\" ><label for=\"sk-estimator-id-8\" class=\"sk-toggleable__label sk-toggleable__label-arrow\">scale</label><div class=\"sk-toggleable__content\"><pre>slice(0, 15, None)</pre></div></div></div><div class=\"sk-serial\"><div class=\"sk-item\"><div class=\"sk-estimator sk-toggleable\"><input class=\"sk-toggleable__control sk-hidden--visually\" id=\"sk-estimator-id-9\" type=\"checkbox\" ><label for=\"sk-estimator-id-9\" class=\"sk-toggleable__label sk-toggleable__label-arrow\">MinMaxScaler</label><div class=\"sk-toggleable__content\"><pre>MinMaxScaler()</pre></div></div></div></div></div></div></div></div><div class=\"sk-item\"><div class=\"sk-estimator sk-toggleable\"><input class=\"sk-toggleable__control sk-hidden--visually\" id=\"sk-estimator-id-10\" type=\"checkbox\" ><label for=\"sk-estimator-id-10\" class=\"sk-toggleable__label sk-toggleable__label-arrow\">DecisionTreeClassifier</label><div class=\"sk-toggleable__content\"><pre>DecisionTreeClassifier()</pre></div></div></div></div></div></div></div>"
      ],
      "text/plain": [
       "Pipeline(steps=[('columntransformer-1',\n",
       "                 ColumnTransformer(remainder='passthrough',\n",
       "                                   transformers=[('ohe_gender_smokinghistory',\n",
       "                                                  OneHotEncoder(handle_unknown='ignore',\n",
       "                                                                sparse=False),\n",
       "                                                  [0, 4])])),\n",
       "                ('columntransformer-2',\n",
       "                 ColumnTransformer(transformers=[('scale', MinMaxScaler(),\n",
       "                                                  slice(0, 15, None))])),\n",
       "                ('decisiontreeclassifier', DecisionTreeClassifier())])"
      ]
     },
     "execution_count": 33,
     "metadata": {},
     "output_type": "execute_result"
    }
   ],
   "source": [
    "#train\n",
    "pipe.fit(X_train,y_train)"
   ]
  },
  {
   "cell_type": "code",
   "execution_count": 34,
   "id": "e5905c07",
   "metadata": {
    "papermill": {
     "duration": 0.029059,
     "end_time": "2023-07-25T11:57:12.147745",
     "exception": false,
     "start_time": "2023-07-25T11:57:12.118686",
     "status": "completed"
    },
    "tags": []
   },
   "outputs": [],
   "source": [
    "# Display Pipeline\n",
    "from sklearn import set_config\n",
    "set_config(display='diagram')"
   ]
  },
  {
   "cell_type": "markdown",
   "id": "9c8e4e18",
   "metadata": {
    "papermill": {
     "duration": 0.02046,
     "end_time": "2023-07-25T11:57:12.187887",
     "exception": false,
     "start_time": "2023-07-25T11:57:12.167427",
     "status": "completed"
    },
    "tags": []
   },
   "source": [
    "# Checking Accuracy of Training Dataset "
   ]
  },
  {
   "cell_type": "code",
   "execution_count": 35,
   "id": "d489f54a",
   "metadata": {
    "papermill": {
     "duration": 2.033739,
     "end_time": "2023-07-25T11:57:14.239857",
     "exception": false,
     "start_time": "2023-07-25T11:57:12.206118",
     "status": "completed"
    },
    "tags": []
   },
   "outputs": [
    {
     "name": "stdout",
     "output_type": "stream",
     "text": [
      "Accuracy of Training data set is :  0.9992285714285715\n",
      "Accuracy after Cross Validation : 0.9507285714285715\n"
     ]
    }
   ],
   "source": [
    "y_pred1=pipe.predict(X_train)\n",
    "print(\"Accuracy of Training data set is : \",accuracy_score(y_train,y_pred1))\n",
    "\n",
    "# CHECKING ACCURACY USING CROSS VALIDATION\n",
    "print(\"Accuracy after Cross Validation :\",cross_val_score(pipe, X_train, y_train, cv=5, scoring='accuracy').mean())\n"
   ]
  },
  {
   "cell_type": "markdown",
   "id": "329eaeaa",
   "metadata": {
    "papermill": {
     "duration": 0.020946,
     "end_time": "2023-07-25T11:57:14.281862",
     "exception": false,
     "start_time": "2023-07-25T11:57:14.260916",
     "status": "completed"
    },
    "tags": []
   },
   "source": [
    "# Checking Accuracy of Test Dataset"
   ]
  },
  {
   "cell_type": "code",
   "execution_count": 36,
   "id": "ae4f9c7f",
   "metadata": {
    "papermill": {
     "duration": 0.771146,
     "end_time": "2023-07-25T11:57:15.072689",
     "exception": false,
     "start_time": "2023-07-25T11:57:14.301543",
     "status": "completed"
    },
    "tags": []
   },
   "outputs": [
    {
     "name": "stdout",
     "output_type": "stream",
     "text": [
      "Accuracy of Test data set is :  0.9525333333333333\n",
      "Accuracy after Cross Validation : 0.9525666666666666\n"
     ]
    }
   ],
   "source": [
    "#Predict\n",
    "y_pred = pipe.predict(X_test)\n",
    "print(\"Accuracy of Test data set is : \",accuracy_score(y_test,y_pred))\n",
    "\n",
    "# CHECKING ACCURACY USING CROSS VALIDATION\n",
    "print(\"Accuracy after Cross Validation :\",cross_val_score(pipe, X_test, y_test, cv=5, scoring='accuracy').mean())"
   ]
  },
  {
   "cell_type": "code",
   "execution_count": 37,
   "id": "a8b03f7b",
   "metadata": {
    "papermill": {
     "duration": 0.032123,
     "end_time": "2023-07-25T11:57:15.124198",
     "exception": false,
     "start_time": "2023-07-25T11:57:15.092075",
     "status": "completed"
    },
    "tags": []
   },
   "outputs": [],
   "source": [
    "import pickle\n",
    "pickle.dump(pipe,open('pipe.pkl1','wb'))"
   ]
  },
  {
   "cell_type": "code",
   "execution_count": 38,
   "id": "297ad2cf",
   "metadata": {
    "papermill": {
     "duration": 0.03347,
     "end_time": "2023-07-25T11:57:15.177412",
     "exception": false,
     "start_time": "2023-07-25T11:57:15.143942",
     "status": "completed"
    },
    "tags": []
   },
   "outputs": [],
   "source": [
    "pipe=pickle.load(open('pipe.pkl1','rb'))"
   ]
  },
  {
   "cell_type": "markdown",
   "id": "38521b40",
   "metadata": {
    "papermill": {
     "duration": 0.018773,
     "end_time": "2023-07-25T11:57:15.215400",
     "exception": false,
     "start_time": "2023-07-25T11:57:15.196627",
     "status": "completed"
    },
    "tags": []
   },
   "source": [
    "***Testing Different Inputs for the model***"
   ]
  },
  {
   "cell_type": "code",
   "execution_count": 39,
   "id": "2fc165aa",
   "metadata": {
    "papermill": {
     "duration": 0.03633,
     "end_time": "2023-07-25T11:57:15.269898",
     "exception": false,
     "start_time": "2023-07-25T11:57:15.233568",
     "status": "completed"
    },
    "tags": []
   },
   "outputs": [
    {
     "name": "stdout",
     "output_type": "stream",
     "text": [
      "[1]\n",
      "The Person is Diabetic\n"
     ]
    }
   ],
   "source": [
    "test_input=np.array(['male',50,1,1,'current',32.8,6.3,230],dtype=object).reshape(1,8)\n",
    "prediction=pipe.predict(test_input)\n",
    "print(prediction)\n",
    "if (prediction[0]==1):\n",
    "    print(\"The Person is Diabetic\")\n",
    "else:\n",
    "    print(\"The Person is Not Diabetic\")"
   ]
  },
  {
   "cell_type": "code",
   "execution_count": 40,
   "id": "92460d26",
   "metadata": {
    "papermill": {
     "duration": 0.035418,
     "end_time": "2023-07-25T11:57:15.323874",
     "exception": false,
     "start_time": "2023-07-25T11:57:15.288456",
     "status": "completed"
    },
    "tags": []
   },
   "outputs": [
    {
     "name": "stdout",
     "output_type": "stream",
     "text": [
      "[0]\n",
      "The Person is Not Diabetic\n"
     ]
    }
   ],
   "source": [
    "test_input1=np.array(['male',50,0,1,'former',31.8,6.1,100],dtype=object).reshape(1,8)\n",
    "prediction=pipe.predict(test_input1)\n",
    "print(prediction)\n",
    "if (prediction[0]==1):\n",
    "    print(\"The Person is Diabetic\")\n",
    "else:\n",
    "    print(\"The Person is Not Diabetic\")"
   ]
  },
  {
   "cell_type": "code",
   "execution_count": 41,
   "id": "8b42bfaf",
   "metadata": {
    "papermill": {
     "duration": 0.037534,
     "end_time": "2023-07-25T11:57:15.382103",
     "exception": false,
     "start_time": "2023-07-25T11:57:15.344569",
     "status": "completed"
    },
    "tags": []
   },
   "outputs": [
    {
     "name": "stdout",
     "output_type": "stream",
     "text": [
      "[1]\n",
      "The Person is Diabetic\n"
     ]
    }
   ],
   "source": [
    "test_input2=np.array(['male',50,0,1,'former',34.8,6.4,200],dtype=object).reshape(1,8)\n",
    "prediction=pipe.predict(test_input2)\n",
    "print(prediction)\n",
    "if (prediction[0]==1):\n",
    "    print(\"The Person is Diabetic\")\n",
    "else:\n",
    "    print(\"The Person is Not Diabetic\")"
   ]
  },
  {
   "cell_type": "markdown",
   "id": "37587227",
   "metadata": {
    "papermill": {
     "duration": 0.019229,
     "end_time": "2023-07-25T11:57:15.419688",
     "exception": false,
     "start_time": "2023-07-25T11:57:15.400459",
     "status": "completed"
    },
    "tags": []
   },
   "source": [
    "# Conclusion\n",
    "***People having higher bmi and high blood glucose level are most likely to be diabetic***"
   ]
  },
  {
   "cell_type": "code",
   "execution_count": 42,
   "id": "0d41ae93",
   "metadata": {
    "papermill": {
     "duration": 0.017928,
     "end_time": "2023-07-25T11:57:15.456444",
     "exception": false,
     "start_time": "2023-07-25T11:57:15.438516",
     "status": "completed"
    },
    "tags": []
   },
   "outputs": [],
   "source": [
    "#TEST"
   ]
  },
  {
   "cell_type": "code",
   "execution_count": 43,
   "id": "85daf07c",
   "metadata": {},
   "outputs": [],
   "source": [
    "import numpy as np\n",
    "\n",
    "import joblib"
   ]
  },
  {
   "cell_type": "code",
   "execution_count": 68,
   "id": "2d018f26",
   "metadata": {},
   "outputs": [
    {
     "name": "stdin",
     "output_type": "stream",
     "text": [
      "Enter gender (male/female):  male\n",
      "Enter age:  50\n",
      "Enter hypertension (0 or 1):  0\n",
      "Enter heart disease (current(1) or former(0)):  former\n",
      "Enter smoking history (current or former):  former\n",
      "Enter BMI:  25\n",
      "Enter HbA1c level:  31.0\n",
      "Enter blood glucose level:  8\n"
     ]
    },
    {
     "name": "stdout",
     "output_type": "stream",
     "text": [
      "The Person is Diabetic\n"
     ]
    }
   ],
   "source": [
    "# Load your model\n",
    "pipe = joblib.load('pipe.pkl1')\n",
    "\n",
    "# Creating a mapping for all inputs\n",
    "feature_mapping = {\n",
    "    'gender': 'Enter gender (male/female): ',\n",
    "    'age': 'Enter age: ',\n",
    "    'hypertension': 'Enter hypertension (0 or 1): ',\n",
    "    'heart_disease': 'Enter heart disease (current(1) or former(0)): ',\n",
    "    'smoking_history': 'Enter smoking history (current or former): ',\n",
    "    'bmi': 'Enter BMI: ',\n",
    "    'HbA1c_level': 'Enter HbA1c level: ',\n",
    "    'blood_glucose_level': 'Enter blood glucose level: ',\n",
    "}\n",
    "\n",
    "# Mapping for 'heart_disease' values so that it can convert string to numeric values\n",
    "# You can use one hot encoder IF you want!!!\n",
    "heart_disease_mapping = {\n",
    "    'current': 1,\n",
    "    'former': 0\n",
    "}\n",
    "\n",
    "# Create an empty list to store all values of the mapping \n",
    "values = []\n",
    "\n",
    "# Run a loop to make sure the user enters all values of the mapping\n",
    "for feature, prompt in feature_mapping.items():\n",
    "    value = input(prompt)\n",
    "    \n",
    "    # To handle the edge case of heart disease\n",
    "    if feature == 'heart_disease':\n",
    "        value = value.lower()\n",
    "        if value in heart_disease_mapping:\n",
    "            values.append(heart_disease_mapping[value])\n",
    "        else:\n",
    "            print(\"Invalid input for heart disease. Please enter 'current' or 'former'.\")\n",
    "            exit(1)\n",
    "    else:\n",
    "        values.append(value)\n",
    "\n",
    "# Convert the appropriate values to their respective data types\n",
    "try:\n",
    "    values[1] = int(values[1])\n",
    "    values[2] = int(values[2])\n",
    "    values[4] = 1 if values[4].lower() == 'current' else 0\n",
    "    values[5] = float(values[5])\n",
    "    values[6] = int(values[6])\n",
    "    values[7] = int(values[7])\n",
    "except (ValueError, IndexError):\n",
    "    pass\n",
    "\n",
    "# Construct the test_input numpy array\n",
    "test_input = np.array([values], dtype=object)\n",
    "\n",
    "# Make a prediction\n",
    "prediction = pipe.predict(test_input)\n",
    "\n",
    "# Check the prediction and provide an appropriate output\n",
    "if prediction[0] == 1:\n",
    "    print(\"The Person is Diabetic\")\n",
    "else:\n",
    "    print(\"The Person is Not Diabetic\")\n"
   ]
  },
  {
   "cell_type": "code",
   "execution_count": 69,
   "id": "559e6255",
   "metadata": {},
   "outputs": [],
   "source": [
    "import tkinter as tk\n",
    "from tkinter import ttk\n",
    "import joblib\n",
    "import numpy as np\n",
    "\n",
    "# Load your model\n",
    "pipe = joblib.load('pipe.pkl1')\n",
    "\n",
    "# Create a function to get the prediction\n",
    "def get_prediction():\n",
    "    values = []\n",
    "    for feature in feature_mapping.keys():\n",
    "        value = feature_entries[feature].get()\n",
    "        \n",
    "        if feature == 'heart_disease':\n",
    "            if value in heart_disease_mapping:\n",
    "                values.append(heart_disease_mapping[value])\n",
    "            else:\n",
    "                result_label.config(text=\"Invalid input for heart disease. Please enter 'current' or 'former'.\")\n",
    "                return\n",
    "        else:\n",
    "            values.append(value)\n",
    "    \n",
    "    try:\n",
    "        values[1] = int(values[1])\n",
    "        values[2] = int(values[2])\n",
    "        values[4] = 1 if values[4].lower() == 'current' else 0\n",
    "        values[5] = float(values[5])\n",
    "        values[6] = int(values[6])\n",
    "        values[7] = int(values[7])\n",
    "    except (ValueError, IndexError):\n",
    "        result_label.config(text=\"Invalid input format. Please check your inputs.\")\n",
    "        return\n",
    "    \n",
    "    test_input = np.array([values], dtype=object)\n",
    "    prediction = pipe.predict(test_input)\n",
    "    \n",
    "    if prediction[0] == 1:\n",
    "        result_label.config(text=\"The Person is Diabetic\")\n",
    "    else:\n",
    "        result_label.config(text=\"The Person is Not Diabetic\")\n",
    "\n",
    "# Create the main window\n",
    "root = tk.Tk()\n",
    "root.title(\"Diabetes Prediction\")\n",
    "\n",
    "# Create a frame to hold the input fields\n",
    "input_frame = ttk.Frame(root)\n",
    "input_frame.grid(row=0, column=0, padx=20, pady=20)\n",
    "\n",
    "# Initialize an empty dictionary to hold the input fields\n",
    "feature_entries = {}\n",
    "\n",
    "# Create input fields for each feature\n",
    "for feature, prompt in feature_mapping.items():\n",
    "    ttk.Label(input_frame, text=prompt).grid(row=len(feature_entries), column=0, padx=5, pady=5)\n",
    "    feature_entries[feature] = ttk.Entry(input_frame)\n",
    "    feature_entries[feature].grid(row=len(feature_entries), column=1, padx=5, pady=5)\n",
    "\n",
    "# Create a button to get the prediction\n",
    "predict_button = ttk.Button(input_frame, text=\"Predict\", command=get_prediction)\n",
    "predict_button.grid(row=len(feature_entries), columnspan=2, padx=5, pady=10)\n",
    "\n",
    "# Create a label to display the prediction result\n",
    "result_label = ttk.Label(root, text=\"\")\n",
    "result_label.grid(row=1, column=0, padx=20, pady=10)\n",
    "\n",
    "root.mainloop()\n"
   ]
  },
  {
   "cell_type": "code",
   "execution_count": null,
   "id": "ef046b95-66ad-4150-9bdf-f55866158748",
   "metadata": {},
   "outputs": [],
   "source": []
  },
  {
   "cell_type": "markdown",
   "id": "786d9939-0b60-4e58-9e1f-6431929f13cc",
   "metadata": {},
   "source": []
  }
 ],
 "metadata": {
  "kernelspec": {
   "display_name": "Python 3 (ipykernel)",
   "language": "python",
   "name": "python3"
  },
  "language_info": {
   "codemirror_mode": {
    "name": "ipython",
    "version": 3
   },
   "file_extension": ".py",
   "mimetype": "text/x-python",
   "name": "python",
   "nbconvert_exporter": "python",
   "pygments_lexer": "ipython3",
   "version": "3.11.1"
  },
  "papermill": {
   "default_parameters": {},
   "duration": 24.668852,
   "end_time": "2023-07-25T11:57:16.703850",
   "environment_variables": {},
   "exception": null,
   "input_path": "__notebook__.ipynb",
   "output_path": "__notebook__.ipynb",
   "parameters": {},
   "start_time": "2023-07-25T11:56:52.034998",
   "version": "2.4.0"
  }
 },
 "nbformat": 4,
 "nbformat_minor": 5
}
